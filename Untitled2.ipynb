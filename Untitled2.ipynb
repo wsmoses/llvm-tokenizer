{
 "cells": [
  {
   "cell_type": "code",
   "execution_count": 1,
   "metadata": {},
   "outputs": [],
   "source": [
    "import numpy as np\n",
    "import pyllvm"
   ]
  },
  {
   "cell_type": "code",
   "execution_count": 2,
   "metadata": {},
   "outputs": [],
   "source": [
    "opts = pyllvm.getOpts()"
   ]
  },
  {
   "cell_type": "code",
   "execution_count": null,
   "metadata": {},
   "outputs": [],
   "source": [
    "def getPolybenchPrograms():\n",
    "    pass"
   ]
  },
  {
   "cell_type": "code",
   "execution_count": 9,
   "metadata": {},
   "outputs": [],
   "source": [
    "llvmIR = pyllvm.getLLVM('benchmarks/polybench-c-3.2/linear-algebra/kernels/gemm/gemm.c', [\"-I\", 'benchmarks/polybench-c-3.2/utilities', '-include', 'benchmarks/polybench-c-3.2/utilities/polybench.c'])"
   ]
  },
  {
   "cell_type": "code",
   "execution_count": 10,
   "metadata": {},
   "outputs": [],
   "source": [
    "x=llvmIR.timeFunction(\"main\")"
   ]
  },
  {
   "cell_type": "code",
   "execution_count": 11,
   "metadata": {},
   "outputs": [
    {
     "name": "stdout",
     "output_type": "stream",
     "text": [
      "6.359\n"
     ]
    }
   ],
   "source": [
    "print(x)"
   ]
  },
  {
   "cell_type": "code",
   "execution_count": 2,
   "metadata": {},
   "outputs": [
    {
     "name": "stdout",
     "output_type": "stream",
     "text": [
      "; ModuleID = 'foo.c'\n",
      "source_filename = \"foo.c\"\n",
      "target datalayout = \"e-m:e-i64:64-f80:128-n8:16:32:64-S128\"\n",
      "target triple = \"x86_64-pc-linux-gnu\"\n",
      "\n",
      "; Function Attrs: noinline nounwind uwtable\n",
      "define i32 @main() #0 {\n",
      "  %1 = alloca i32*, align 8\n",
      "  store i32* null, i32** %1, align 8\n",
      "  %2 = load i32*, i32** %1, align 8\n",
      "  store i32 0, i32* %2, align 4\n",
      "  ret i32 0\n",
      "}\n",
      "\n",
      "attributes #0 = { noinline nounwind uwtable \"correctly-rounded-divide-sqrt-fp-math\"=\"false\" \"disable-tail-calls\"=\"false\" \"less-precise-fpmad\"=\"false\" \"no-frame-pointer-elim\"=\"true\" \"no-frame-pointer-elim-non-leaf\" \"no-infs-fp-math\"=\"false\" \"no-jump-tables\"=\"false\" \"no-nans-fp-math\"=\"false\" \"no-signed-zeros-fp-math\"=\"false\" \"no-trapping-math\"=\"false\" \"stack-protector-buffer-size\"=\"8\" \"target-cpu\"=\"x86-64\" \"target-features\"=\"+fxsr,+mmx,+sse,+sse2,+x87\" \"unsafe-fp-math\"=\"false\" \"use-soft-float\"=\"false\" }\n",
      "\n",
      "!llvm.module.flags = !{!0}\n",
      "!llvm.ident = !{!1}\n",
      "\n",
      "!0 = !{i32 1, !\"wchar_size\", i32 4}\n",
      "!1 = !{!\"clang version 5.0.0-3 (tags/RELEASE_500/final)\"}\n",
      "\n",
      "; ModuleID = 'boo.c'\n",
      "source_filename = \"boo.c\"\n",
      "target datalayout = \"e-m:e-i64:64-f80:128-n8:16:32:64-S128\"\n",
      "target triple = \"x86_64-pc-linux-gnu\"\n",
      "\n",
      "; Function Attrs: noinline nounwind uwtable\n",
      "define i32 @main() #0 {\n",
      "  %1 = alloca i32*, align 8\n",
      "  store i32* inttoptr (i64 1 to i32*), i32** %1, align 8\n",
      "  %2 = load i32*, i32** %1, align 8\n",
      "  store i32 0, i32* %2, align 4\n",
      "  ret i32 0\n",
      "}\n",
      "\n",
      "attributes #0 = { noinline nounwind uwtable \"correctly-rounded-divide-sqrt-fp-math\"=\"false\" \"disable-tail-calls\"=\"false\" \"less-precise-fpmad\"=\"false\" \"no-frame-pointer-elim\"=\"true\" \"no-frame-pointer-elim-non-leaf\" \"no-infs-fp-math\"=\"false\" \"no-jump-tables\"=\"false\" \"no-nans-fp-math\"=\"false\" \"no-signed-zeros-fp-math\"=\"false\" \"no-trapping-math\"=\"false\" \"stack-protector-buffer-size\"=\"8\" \"target-cpu\"=\"x86-64\" \"target-features\"=\"+fxsr,+mmx,+sse,+sse2,+x87\" \"unsafe-fp-math\"=\"false\" \"use-soft-float\"=\"false\" }\n",
      "\n",
      "!llvm.module.flags = !{!0}\n",
      "!llvm.ident = !{!1}\n",
      "\n",
      "!0 = !{i32 1, !\"wchar_size\", i32 4}\n",
      "!1 = !{!\"clang version 5.0.0-3 (tags/RELEASE_500/final)\"}\n",
      "\n"
     ]
    }
   ],
   "source": [
    "y=pyllvm.getLLVM('foo.c',[])\n",
    "print(y)\n",
    "z=pyllvm.getLLVM('boo.c',[])\n",
    "print(z)"
   ]
  },
  {
   "cell_type": "code",
   "execution_count": 3,
   "metadata": {},
   "outputs": [
    {
     "data": {
      "text/plain": [
       "inf"
      ]
     },
     "execution_count": 3,
     "metadata": {},
     "output_type": "execute_result"
    }
   ],
   "source": [
    "y.timeFunction(\"main\",10)"
   ]
  },
  {
   "cell_type": "code",
   "execution_count": null,
   "metadata": {},
   "outputs": [],
   "source": [
    "y.timeFunction(\"main\",10)"
   ]
  },
  {
   "cell_type": "code",
   "execution_count": null,
   "metadata": {},
   "outputs": [],
   "source": [
    "z.timeFunction(\"main\",10)"
   ]
  },
  {
   "cell_type": "code",
   "execution_count": null,
   "metadata": {},
   "outputs": [],
   "source": []
  }
 ],
 "metadata": {
  "kernelspec": {
   "display_name": "Python 3",
   "language": "python",
   "name": "python3"
  },
  "language_info": {
   "codemirror_mode": {
    "name": "ipython",
    "version": 3
   },
   "file_extension": ".py",
   "mimetype": "text/x-python",
   "name": "python",
   "nbconvert_exporter": "python",
   "pygments_lexer": "ipython3",
   "version": "3.6.3"
  }
 },
 "nbformat": 4,
 "nbformat_minor": 2
}
